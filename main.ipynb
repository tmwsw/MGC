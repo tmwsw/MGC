{
 "cells": [
  {
   "cell_type": "code",
   "execution_count": 7,
   "metadata": {},
   "outputs": [
    {
     "name": "stdout",
     "output_type": "stream",
     "text": [
      "Первые 5 строк данных:\n",
      "         Date     Price      Open      High       Low     Vol. Change %\n",
      "0  03/31/2023  1,043.20  1,061.00  1,061.00  1,042.00  571.72K   -1.68%\n",
      "1  03/30/2023  1,061.00  1,074.60  1,084.80  1,058.00    1.30M   -1.27%\n",
      "2  03/29/2023  1,074.60  1,040.60  1,078.40  1,035.40    1.79M    3.53%\n",
      "3  03/28/2023  1,038.00  1,041.40  1,044.00  1,033.00  269.09K   -0.17%\n",
      "4  03/27/2023  1,039.80  1,036.20  1,042.60  1,032.20  410.74K    0.50%\n",
      "\n",
      "Информация о данных:\n",
      "<class 'pandas.core.frame.DataFrame'>\n",
      "RangeIndex: 1054 entries, 0 to 1053\n",
      "Data columns (total 7 columns):\n",
      " #   Column    Non-Null Count  Dtype \n",
      "---  ------    --------------  ----- \n",
      " 0   Date      1054 non-null   object\n",
      " 1   Price     1054 non-null   object\n",
      " 2   Open      1054 non-null   object\n",
      " 3   High      1054 non-null   object\n",
      " 4   Low       1054 non-null   object\n",
      " 5   Vol.      1053 non-null   object\n",
      " 6   Change %  1054 non-null   object\n",
      "dtypes: object(7)\n",
      "memory usage: 57.8+ KB\n",
      "None\n",
      "\n",
      "Описательная статистика:\n",
      "              Date     Price    Open    High       Low   Vol. Change %\n",
      "count         1054      1054    1054    1054      1054   1053     1054\n",
      "unique        1054       891     861     885       881    695      530\n",
      "top     01/03/2019  1,595.60  980.00  805.00  1,002.00  1.30M    0.25%\n",
      "freq             1         4       4       5         4     12        8\n",
      "\n",
      "Пропущенные значения:\n",
      "Date        0\n",
      "Price       0\n",
      "Open        0\n",
      "High        0\n",
      "Low         0\n",
      "Vol.        1\n",
      "Change %    0\n",
      "dtype: int64\n",
      "\n",
      "Количество дубликатов:\n",
      "0\n"
     ]
    }
   ],
   "source": [
    "import pandas as pd\n",
    "\n",
    "df = pd.read_csv(\"CHMF Акции.csv\")\n",
    "    \n",
    "print(\"Первые 5 строк данных:\")\n",
    "print(df.head())\n",
    "\n",
    "print(\"\\nИнформация о данных:\")\n",
    "print(df.info())\n",
    "\n",
    "print(\"\\nОписательная статистика:\")\n",
    "print(df.describe())\n",
    "\n",
    "print(\"\\nПропущенные значения:\")\n",
    "print(df.isnull().sum())\n",
    "\n",
    "print(\"\\nКоличество дубликатов:\")\n",
    "print(df.duplicated().sum())"
   ]
  }
 ],
 "metadata": {
  "kernelspec": {
   "display_name": "Python 3",
   "language": "python",
   "name": "python3"
  },
  "language_info": {
   "codemirror_mode": {
    "name": "ipython",
    "version": 3
   },
   "file_extension": ".py",
   "mimetype": "text/x-python",
   "name": "python",
   "nbconvert_exporter": "python",
   "pygments_lexer": "ipython3",
   "version": "3.13.1"
  }
 },
 "nbformat": 4,
 "nbformat_minor": 2
}
