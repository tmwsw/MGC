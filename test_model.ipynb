{
 "cells": [
  {
   "cell_type": "code",
   "execution_count": 66,
   "metadata": {},
   "outputs": [],
   "source": [
    "import pandas as pd\n",
    "from catboost import CatBoostRegressor"
   ]
  },
  {
   "cell_type": "markdown",
   "metadata": {},
   "source": [
    "1. Загружаем тестовые данные"
   ]
  },
  {
   "cell_type": "code",
   "execution_count": 67,
   "metadata": {},
   "outputs": [],
   "source": [
    "test_df = pd.read_excel(\"data/excel/test.xlsx\")"
   ]
  },
  {
   "cell_type": "markdown",
   "metadata": {},
   "source": [
    "2. Загружаем обученную модель"
   ]
  },
  {
   "cell_type": "code",
   "execution_count": 68,
   "metadata": {},
   "outputs": [
    {
     "data": {
      "text/plain": [
       "<catboost.core.CatBoostRegressor at 0x267f6e9c5c0>"
      ]
     },
     "execution_count": 68,
     "metadata": {},
     "output_type": "execute_result"
    }
   ],
   "source": [
    "model = CatBoostRegressor()\n",
    "model.load_model(\"catboost_model.cbm\")"
   ]
  },
  {
   "cell_type": "markdown",
   "metadata": {},
   "source": [
    "3. Подготавливаем признаки"
   ]
  },
  {
   "cell_type": "code",
   "execution_count": 69,
   "metadata": {},
   "outputs": [],
   "source": [
    "# Преобразование даты\n",
    "test_df[\"dt\"] = pd.to_datetime(test_df[\"dt\"], dayfirst=True)\n",
    "test_df[\"year\"] = test_df[\"dt\"].dt.year\n",
    "test_df[\"month\"] = test_df[\"dt\"].dt.month\n",
    "test_df[\"day\"] = test_df[\"dt\"].dt.day\n",
    "test_df[\"week\"] = test_df[\"dt\"].dt.isocalendar().week\n",
    "\n",
    "for i in range(1, 7):\n",
    "    test_df[f\"lag_{i}\"] = test_df[\"Price\"].shift(i)\n",
    "\n",
    "# Добавление столбца Price_source\n",
    "test_df[\"Price_source\"] = test_df[\"Price\"].shift(2)"
   ]
  },
  {
   "cell_type": "markdown",
   "metadata": {},
   "source": [
    "4. Выбираем признаки и делаем прогноз"
   ]
  },
  {
   "cell_type": "code",
   "execution_count": 70,
   "metadata": {},
   "outputs": [],
   "source": [
    "# Подготовка данных для предсказания\n",
    "feature_columns = model.feature_names_\n",
    "X_test = test_df[feature_columns].dropna()\n",
    "\n",
    "# Предсказание\n",
    "test_df.loc[X_test.index, \"Прогноз_цены\"] = model.predict(X_test)"
   ]
  },
  {
   "cell_type": "markdown",
   "metadata": {},
   "source": [
    "5. Определяем N недель закупки"
   ]
  },
  {
   "cell_type": "code",
   "execution_count": 71,
   "metadata": {},
   "outputs": [],
   "source": [
    "# Определение закупки\n",
    "def calculate_weeks(row):\n",
    "    if row[\"Прогноз_цены\"] > row[\"Price\"] * 1.02:\n",
    "        return 6\n",
    "    elif row[\"Прогноз_цены\"] > row[\"Price\"]:\n",
    "        return 4\n",
    "    elif row[\"Прогноз_цены\"] < row[\"Price\"] * 0.98:\n",
    "        return 1\n",
    "    else:\n",
    "        return 3\n",
    "\n",
    "test_df[\"Закупка_недель\"] = test_df.apply(calculate_weeks, axis=1)"
   ]
  },
  {
   "cell_type": "markdown",
   "metadata": {},
   "source": [
    "6. Сохраняем результаты"
   ]
  },
  {
   "cell_type": "code",
   "execution_count": 72,
   "metadata": {},
   "outputs": [
    {
     "name": "stdout",
     "output_type": "stream",
     "text": [
      "Прогнозирование завершено. Результаты сохранены в predicted_procurement.xlsx\n"
     ]
    }
   ],
   "source": [
    "test_df.to_excel(\"predicted_procurement.xlsx\", index=False)\n",
    "print(\"Прогнозирование завершено. Результаты сохранены в predicted_procurement.xlsx\")"
   ]
  }
 ],
 "metadata": {
  "kernelspec": {
   "display_name": "Python 3",
   "language": "python",
   "name": "python3"
  },
  "language_info": {
   "codemirror_mode": {
    "name": "ipython",
    "version": 3
   },
   "file_extension": ".py",
   "mimetype": "text/x-python",
   "name": "python",
   "nbconvert_exporter": "python",
   "pygments_lexer": "ipython3",
   "version": "3.12.0"
  }
 },
 "nbformat": 4,
 "nbformat_minor": 2
}
